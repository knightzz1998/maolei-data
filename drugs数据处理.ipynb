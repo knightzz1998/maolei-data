{
 "cells": [
  {
   "cell_type": "code",
   "execution_count": 8,
   "metadata": {
    "collapsed": true
   },
   "outputs": [],
   "source": [
    "import pandas as pd\n",
    "import numpy as np"
   ]
  },
  {
   "cell_type": "code",
   "execution_count": 11,
   "outputs": [
    {
     "data": {
      "text/plain": "       Unnamed: 0         drugName                     condition  \\\n0          163740      Mirtazapine                    Depression   \n1          206473       Mesalamine  Crohn's Disease, Maintenance   \n2          159672          Bactrim       Urinary Tract Infection   \n3           39293         Contrave                   Weight Loss   \n4           97768  Cyclafem 1 / 35                 Birth Control   \n...           ...              ...                           ...   \n53761      159999        Tamoxifen     Breast Cancer, Prevention   \n53762      140714     Escitalopram                       Anxiety   \n53763      130945   Levonorgestrel                 Birth Control   \n53764       47656       Tapentadol                          Pain   \n53765      113712        Arthrotec                      Sciatica   \n\n                                                  review  rating  \\\n0      \"I&#039;ve tried a few antidepressants over th...    10.0   \n1      \"My son has Crohn&#039;s disease and has done ...     8.0   \n2                          \"Quick reduction of symptoms\"     9.0   \n3      \"Contrave combines drugs that were used for al...     9.0   \n4      \"I have been on this birth control for one cyc...     9.0   \n...                                                  ...     ...   \n53761  \"I have taken Tamoxifen for 5 years. Side effe...    10.0   \n53762  \"I&#039;ve been taking Lexapro (escitaploprgra...     9.0   \n53763  \"I&#039;m married, 34 years old and I have no ...     8.0   \n53764  \"I was prescribed Nucynta for severe neck/shou...     1.0   \n53765                                      \"It works!!!\"     9.0   \n\n                     date  usefulCount  \n0       February 28, 2012           22  \n1            May 17, 2009           17  \n2      September 29, 2017            3  \n3           March 5, 2017           35  \n4        October 22, 2015            4  \n...                   ...          ...  \n53761  September 13, 2014           43  \n53762     October 8, 2016           11  \n53763   November 15, 2010            7  \n53764   November 28, 2011           20  \n53765  September 13, 2009           46  \n\n[53766 rows x 7 columns]",
      "text/html": "<div>\n<style scoped>\n    .dataframe tbody tr th:only-of-type {\n        vertical-align: middle;\n    }\n\n    .dataframe tbody tr th {\n        vertical-align: top;\n    }\n\n    .dataframe thead th {\n        text-align: right;\n    }\n</style>\n<table border=\"1\" class=\"dataframe\">\n  <thead>\n    <tr style=\"text-align: right;\">\n      <th></th>\n      <th>Unnamed: 0</th>\n      <th>drugName</th>\n      <th>condition</th>\n      <th>review</th>\n      <th>rating</th>\n      <th>date</th>\n      <th>usefulCount</th>\n    </tr>\n  </thead>\n  <tbody>\n    <tr>\n      <th>0</th>\n      <td>163740</td>\n      <td>Mirtazapine</td>\n      <td>Depression</td>\n      <td>\"I&amp;#039;ve tried a few antidepressants over th...</td>\n      <td>10.0</td>\n      <td>February 28, 2012</td>\n      <td>22</td>\n    </tr>\n    <tr>\n      <th>1</th>\n      <td>206473</td>\n      <td>Mesalamine</td>\n      <td>Crohn's Disease, Maintenance</td>\n      <td>\"My son has Crohn&amp;#039;s disease and has done ...</td>\n      <td>8.0</td>\n      <td>May 17, 2009</td>\n      <td>17</td>\n    </tr>\n    <tr>\n      <th>2</th>\n      <td>159672</td>\n      <td>Bactrim</td>\n      <td>Urinary Tract Infection</td>\n      <td>\"Quick reduction of symptoms\"</td>\n      <td>9.0</td>\n      <td>September 29, 2017</td>\n      <td>3</td>\n    </tr>\n    <tr>\n      <th>3</th>\n      <td>39293</td>\n      <td>Contrave</td>\n      <td>Weight Loss</td>\n      <td>\"Contrave combines drugs that were used for al...</td>\n      <td>9.0</td>\n      <td>March 5, 2017</td>\n      <td>35</td>\n    </tr>\n    <tr>\n      <th>4</th>\n      <td>97768</td>\n      <td>Cyclafem 1 / 35</td>\n      <td>Birth Control</td>\n      <td>\"I have been on this birth control for one cyc...</td>\n      <td>9.0</td>\n      <td>October 22, 2015</td>\n      <td>4</td>\n    </tr>\n    <tr>\n      <th>...</th>\n      <td>...</td>\n      <td>...</td>\n      <td>...</td>\n      <td>...</td>\n      <td>...</td>\n      <td>...</td>\n      <td>...</td>\n    </tr>\n    <tr>\n      <th>53761</th>\n      <td>159999</td>\n      <td>Tamoxifen</td>\n      <td>Breast Cancer, Prevention</td>\n      <td>\"I have taken Tamoxifen for 5 years. Side effe...</td>\n      <td>10.0</td>\n      <td>September 13, 2014</td>\n      <td>43</td>\n    </tr>\n    <tr>\n      <th>53762</th>\n      <td>140714</td>\n      <td>Escitalopram</td>\n      <td>Anxiety</td>\n      <td>\"I&amp;#039;ve been taking Lexapro (escitaploprgra...</td>\n      <td>9.0</td>\n      <td>October 8, 2016</td>\n      <td>11</td>\n    </tr>\n    <tr>\n      <th>53763</th>\n      <td>130945</td>\n      <td>Levonorgestrel</td>\n      <td>Birth Control</td>\n      <td>\"I&amp;#039;m married, 34 years old and I have no ...</td>\n      <td>8.0</td>\n      <td>November 15, 2010</td>\n      <td>7</td>\n    </tr>\n    <tr>\n      <th>53764</th>\n      <td>47656</td>\n      <td>Tapentadol</td>\n      <td>Pain</td>\n      <td>\"I was prescribed Nucynta for severe neck/shou...</td>\n      <td>1.0</td>\n      <td>November 28, 2011</td>\n      <td>20</td>\n    </tr>\n    <tr>\n      <th>53765</th>\n      <td>113712</td>\n      <td>Arthrotec</td>\n      <td>Sciatica</td>\n      <td>\"It works!!!\"</td>\n      <td>9.0</td>\n      <td>September 13, 2009</td>\n      <td>46</td>\n    </tr>\n  </tbody>\n</table>\n<p>53766 rows × 7 columns</p>\n</div>"
     },
     "execution_count": 11,
     "metadata": {},
     "output_type": "execute_result"
    }
   ],
   "source": [
    "data = pd.read_csv(\"dataset/drugsComTest_raw.tsv\", sep='\\t',\n",
    "                   header=0, encoding=\"UTF-8\")\n",
    "data"
   ],
   "metadata": {
    "collapsed": false
   }
  },
  {
   "cell_type": "code",
   "execution_count": 44,
   "outputs": [
    {
     "data": {
      "text/plain": "          Unnamed: 0        rating   usefulCount\ncount   53766.000000  53766.000000  53766.000000\nmean   116386.701187      6.976900     27.989752\nstd     67017.739881      3.285207     36.172833\nmin         0.000000      1.000000      0.000000\n25%     58272.500000      4.000000      6.000000\n50%    116248.500000      8.000000     16.000000\n75%    174586.750000     10.000000     36.000000\nmax    232284.000000     10.000000    949.000000",
      "text/html": "<div>\n<style scoped>\n    .dataframe tbody tr th:only-of-type {\n        vertical-align: middle;\n    }\n\n    .dataframe tbody tr th {\n        vertical-align: top;\n    }\n\n    .dataframe thead th {\n        text-align: right;\n    }\n</style>\n<table border=\"1\" class=\"dataframe\">\n  <thead>\n    <tr style=\"text-align: right;\">\n      <th></th>\n      <th>Unnamed: 0</th>\n      <th>rating</th>\n      <th>usefulCount</th>\n    </tr>\n  </thead>\n  <tbody>\n    <tr>\n      <th>count</th>\n      <td>53766.000000</td>\n      <td>53766.000000</td>\n      <td>53766.000000</td>\n    </tr>\n    <tr>\n      <th>mean</th>\n      <td>116386.701187</td>\n      <td>6.976900</td>\n      <td>27.989752</td>\n    </tr>\n    <tr>\n      <th>std</th>\n      <td>67017.739881</td>\n      <td>3.285207</td>\n      <td>36.172833</td>\n    </tr>\n    <tr>\n      <th>min</th>\n      <td>0.000000</td>\n      <td>1.000000</td>\n      <td>0.000000</td>\n    </tr>\n    <tr>\n      <th>25%</th>\n      <td>58272.500000</td>\n      <td>4.000000</td>\n      <td>6.000000</td>\n    </tr>\n    <tr>\n      <th>50%</th>\n      <td>116248.500000</td>\n      <td>8.000000</td>\n      <td>16.000000</td>\n    </tr>\n    <tr>\n      <th>75%</th>\n      <td>174586.750000</td>\n      <td>10.000000</td>\n      <td>36.000000</td>\n    </tr>\n    <tr>\n      <th>max</th>\n      <td>232284.000000</td>\n      <td>10.000000</td>\n      <td>949.000000</td>\n    </tr>\n  </tbody>\n</table>\n</div>"
     },
     "execution_count": 44,
     "metadata": {},
     "output_type": "execute_result"
    }
   ],
   "source": [
    "data.describe()"
   ],
   "metadata": {
    "collapsed": false
   }
  },
  {
   "cell_type": "code",
   "execution_count": 13,
   "outputs": [
    {
     "data": {
      "text/plain": "0    Mirtazapine\n1     Mesalamine\n2        Bactrim\nName: drugName, dtype: object"
     },
     "execution_count": 13,
     "metadata": {},
     "output_type": "execute_result"
    }
   ],
   "source": [
    "drugNames = data['drugName']\n",
    "drugNames[:3]"
   ],
   "metadata": {
    "collapsed": false
   }
  },
  {
   "cell_type": "code",
   "execution_count": 16,
   "outputs": [
    {
     "data": {
      "text/plain": "0                      Depression\n1    Crohn's Disease, Maintenance\n2         Urinary Tract Infection\nName: condition, dtype: object"
     },
     "execution_count": 16,
     "metadata": {},
     "output_type": "execute_result"
    }
   ],
   "source": [
    "conditions = data['condition']\n",
    "conditions[:3]"
   ],
   "metadata": {
    "collapsed": false
   }
  },
  {
   "cell_type": "code",
   "execution_count": 14,
   "outputs": [
    {
     "data": {
      "text/plain": "0    \"I&#039;ve tried a few antidepressants over th...\n1    \"My son has Crohn&#039;s disease and has done ...\n2                        \"Quick reduction of symptoms\"\nName: review, dtype: object"
     },
     "execution_count": 14,
     "metadata": {},
     "output_type": "execute_result"
    }
   ],
   "source": [
    "reviews = data['review']\n",
    "reviews[:3]"
   ],
   "metadata": {
    "collapsed": false
   }
  },
  {
   "cell_type": "code",
   "execution_count": 15,
   "outputs": [
    {
     "data": {
      "text/plain": "0    10.0\n1     8.0\n2     9.0\nName: rating, dtype: float64"
     },
     "execution_count": 15,
     "metadata": {},
     "output_type": "execute_result"
    }
   ],
   "source": [
    "ratings = data['rating']\n",
    "ratings[:3]"
   ],
   "metadata": {
    "collapsed": false
   }
  },
  {
   "cell_type": "code",
   "execution_count": 53,
   "outputs": [],
   "source": [
    "from numpy import NaN\n",
    "\n",
    "aspect = []\n",
    "\n",
    "for i in range(len(reviews)):\n",
    "    if drugNames[i] is NaN:\n",
    "        aspect.append(conditions[i])\n",
    "        continue\n",
    "    if conditions[i] is NaN:\n",
    "        aspect.append(drugNames[i])\n",
    "        continue\n",
    "    if drugNames[i] is NaN and conditions[i] is NaN:\n",
    "        print(i)\n",
    "    aspect.append(drugNames[i] + \" \" + conditions[i])\n"
   ],
   "metadata": {
    "collapsed": false
   }
  },
  {
   "cell_type": "code",
   "execution_count": 54,
   "outputs": [
    {
     "data": {
      "text/plain": "53766"
     },
     "execution_count": 54,
     "metadata": {},
     "output_type": "execute_result"
    }
   ],
   "source": [
    "len(aspect)"
   ],
   "metadata": {
    "collapsed": false
   }
  },
  {
   "cell_type": "code",
   "execution_count": 38,
   "outputs": [
    {
     "data": {
      "text/plain": "str"
     },
     "execution_count": 38,
     "metadata": {},
     "output_type": "execute_result"
    }
   ],
   "source": [
    "type(drugNames[i])"
   ],
   "metadata": {
    "collapsed": false
   }
  },
  {
   "cell_type": "code",
   "execution_count": 65,
   "outputs": [],
   "source": [
    "with open(\"result/drugsComTest_processed.txt\", mode=\"a\", encoding=\"UTF-8\") as f:\n",
    "    for i in range(len(reviews)):\n",
    "        f.write(reviews[i]+\"\\n\")\n",
    "        f.write(aspect[i] +\"\\n\")\n",
    "        f.write(\"{}\\n\".format(ratings[i]))"
   ],
   "metadata": {
    "collapsed": false
   }
  },
  {
   "cell_type": "code",
   "execution_count": null,
   "outputs": [],
   "source": [],
   "metadata": {
    "collapsed": false
   }
  }
 ],
 "metadata": {
  "kernelspec": {
   "display_name": "Python 3",
   "language": "python",
   "name": "python3"
  },
  "language_info": {
   "codemirror_mode": {
    "name": "ipython",
    "version": 2
   },
   "file_extension": ".py",
   "mimetype": "text/x-python",
   "name": "python",
   "nbconvert_exporter": "python",
   "pygments_lexer": "ipython2",
   "version": "2.7.6"
  }
 },
 "nbformat": 4,
 "nbformat_minor": 0
}
