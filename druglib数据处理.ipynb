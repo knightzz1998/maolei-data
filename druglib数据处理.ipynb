{
 "cells": [
  {
   "cell_type": "code",
   "execution_count": 1,
   "metadata": {
    "collapsed": true
   },
   "outputs": [],
   "source": [
    "import pandas as pd\n",
    "import numpy as np"
   ]
  },
  {
   "cell_type": "code",
   "execution_count": 3,
   "outputs": [
    {
     "data": {
      "text/plain": "      Unnamed: 0     urlDrugName  rating           effectiveness  \\\n0           1366          biaxin       9  Considerably Effective   \n1           3724        lamictal       9        Highly Effective   \n2           3824        depakene       4    Moderately Effective   \n3            969         sarafem      10        Highly Effective   \n4            696        accutane      10        Highly Effective   \n...          ...             ...     ...                     ...   \n1031         690        accutane       7  Considerably Effective   \n1032        1071      proair-hfa      10        Highly Effective   \n1033         681        accutane       8  Considerably Effective   \n1034        2709         divigel      10        Highly Effective   \n1035         729  claripel-cream       8  Considerably Effective   \n\n                sideEffects                          condition  \\\n0         Mild Side Effects                    sinus infection   \n1         Mild Side Effects                   bipolar disorder   \n2       Severe Side Effects                   bipolar disorder   \n3           No Side Effects                 bi-polar / anxiety   \n4         Mild Side Effects                       nodular acne   \n...                     ...                                ...   \n1031    Severe Side Effects                      acne vulgaris   \n1032        No Side Effects                             asthma   \n1033  Moderate Side Effects                         serve acne   \n1034        No Side Effects                          menopause   \n1035      Mild Side Effects  acne scarring & hyperpigmentation   \n\n                                         benefitsReview  \\\n0     The antibiotic may have destroyed bacteria cau...   \n1     Lamictal stabilized my serious mood swings. On...   \n2     Initial benefits were comparable to the brand ...   \n3     It controlls my mood swings. It helps me think...   \n4     Within one week of treatment superficial acne ...   \n...                                                 ...   \n1031  Detoxing effect by pushing out the system thro...   \n1032  The albuterol relieved the constriction, irrit...   \n1033                    Serve Acne has turned to middle   \n1034  My overall mood, sense of well being, energy l...   \n1035  Up until 2 years ago, it worked really well on...   \n\n                                      sideEffectsReview  \\\n0                         Some back pain, some nauseau.   \n1     Drowsiness, a bit of mental numbness. If you t...   \n2     Depakene has a very thin coating, which caused...   \n3               I didnt really notice any side effects.   \n4     Side effects included moderate to severe dry s...   \n...                                                 ...   \n1031  Hairloss, extreme dry skin, itchiness, raises ...   \n1032                I have experienced no side effects.   \n1033    Painfull muscles, problems with seeing at night   \n1034  No side effects of any kind were noted or appa...   \n1035  Have stopped using it and have also learned th...   \n\n                                         commentsReview  \n0     Took the antibiotics for 14 days. Sinus infect...  \n1     Severe mood swings between hypomania and depre...  \n2     Depakote was prescribed to me by a Kaiser psyc...  \n3     This drug may not be for everyone but its wond...  \n4     Drug was taken in gelatin tablet at 0.5 mg per...  \n...                                                 ...  \n1031  Treatment period is 3 months/12 weeks. Dosage ...  \n1032  I use the albuterol as needed because of aller...  \n1033  This drug is highly teratogenic ,females must ...  \n1034  Divigel is a topically applied Bio-Identical H...  \n1035               Stopped using it for the time being.  \n\n[1036 rows x 9 columns]",
      "text/html": "<div>\n<style scoped>\n    .dataframe tbody tr th:only-of-type {\n        vertical-align: middle;\n    }\n\n    .dataframe tbody tr th {\n        vertical-align: top;\n    }\n\n    .dataframe thead th {\n        text-align: right;\n    }\n</style>\n<table border=\"1\" class=\"dataframe\">\n  <thead>\n    <tr style=\"text-align: right;\">\n      <th></th>\n      <th>Unnamed: 0</th>\n      <th>urlDrugName</th>\n      <th>rating</th>\n      <th>effectiveness</th>\n      <th>sideEffects</th>\n      <th>condition</th>\n      <th>benefitsReview</th>\n      <th>sideEffectsReview</th>\n      <th>commentsReview</th>\n    </tr>\n  </thead>\n  <tbody>\n    <tr>\n      <th>0</th>\n      <td>1366</td>\n      <td>biaxin</td>\n      <td>9</td>\n      <td>Considerably Effective</td>\n      <td>Mild Side Effects</td>\n      <td>sinus infection</td>\n      <td>The antibiotic may have destroyed bacteria cau...</td>\n      <td>Some back pain, some nauseau.</td>\n      <td>Took the antibiotics for 14 days. Sinus infect...</td>\n    </tr>\n    <tr>\n      <th>1</th>\n      <td>3724</td>\n      <td>lamictal</td>\n      <td>9</td>\n      <td>Highly Effective</td>\n      <td>Mild Side Effects</td>\n      <td>bipolar disorder</td>\n      <td>Lamictal stabilized my serious mood swings. On...</td>\n      <td>Drowsiness, a bit of mental numbness. If you t...</td>\n      <td>Severe mood swings between hypomania and depre...</td>\n    </tr>\n    <tr>\n      <th>2</th>\n      <td>3824</td>\n      <td>depakene</td>\n      <td>4</td>\n      <td>Moderately Effective</td>\n      <td>Severe Side Effects</td>\n      <td>bipolar disorder</td>\n      <td>Initial benefits were comparable to the brand ...</td>\n      <td>Depakene has a very thin coating, which caused...</td>\n      <td>Depakote was prescribed to me by a Kaiser psyc...</td>\n    </tr>\n    <tr>\n      <th>3</th>\n      <td>969</td>\n      <td>sarafem</td>\n      <td>10</td>\n      <td>Highly Effective</td>\n      <td>No Side Effects</td>\n      <td>bi-polar / anxiety</td>\n      <td>It controlls my mood swings. It helps me think...</td>\n      <td>I didnt really notice any side effects.</td>\n      <td>This drug may not be for everyone but its wond...</td>\n    </tr>\n    <tr>\n      <th>4</th>\n      <td>696</td>\n      <td>accutane</td>\n      <td>10</td>\n      <td>Highly Effective</td>\n      <td>Mild Side Effects</td>\n      <td>nodular acne</td>\n      <td>Within one week of treatment superficial acne ...</td>\n      <td>Side effects included moderate to severe dry s...</td>\n      <td>Drug was taken in gelatin tablet at 0.5 mg per...</td>\n    </tr>\n    <tr>\n      <th>...</th>\n      <td>...</td>\n      <td>...</td>\n      <td>...</td>\n      <td>...</td>\n      <td>...</td>\n      <td>...</td>\n      <td>...</td>\n      <td>...</td>\n      <td>...</td>\n    </tr>\n    <tr>\n      <th>1031</th>\n      <td>690</td>\n      <td>accutane</td>\n      <td>7</td>\n      <td>Considerably Effective</td>\n      <td>Severe Side Effects</td>\n      <td>acne vulgaris</td>\n      <td>Detoxing effect by pushing out the system thro...</td>\n      <td>Hairloss, extreme dry skin, itchiness, raises ...</td>\n      <td>Treatment period is 3 months/12 weeks. Dosage ...</td>\n    </tr>\n    <tr>\n      <th>1032</th>\n      <td>1071</td>\n      <td>proair-hfa</td>\n      <td>10</td>\n      <td>Highly Effective</td>\n      <td>No Side Effects</td>\n      <td>asthma</td>\n      <td>The albuterol relieved the constriction, irrit...</td>\n      <td>I have experienced no side effects.</td>\n      <td>I use the albuterol as needed because of aller...</td>\n    </tr>\n    <tr>\n      <th>1033</th>\n      <td>681</td>\n      <td>accutane</td>\n      <td>8</td>\n      <td>Considerably Effective</td>\n      <td>Moderate Side Effects</td>\n      <td>serve acne</td>\n      <td>Serve Acne has turned to middle</td>\n      <td>Painfull muscles, problems with seeing at night</td>\n      <td>This drug is highly teratogenic ,females must ...</td>\n    </tr>\n    <tr>\n      <th>1034</th>\n      <td>2709</td>\n      <td>divigel</td>\n      <td>10</td>\n      <td>Highly Effective</td>\n      <td>No Side Effects</td>\n      <td>menopause</td>\n      <td>My overall mood, sense of well being, energy l...</td>\n      <td>No side effects of any kind were noted or appa...</td>\n      <td>Divigel is a topically applied Bio-Identical H...</td>\n    </tr>\n    <tr>\n      <th>1035</th>\n      <td>729</td>\n      <td>claripel-cream</td>\n      <td>8</td>\n      <td>Considerably Effective</td>\n      <td>Mild Side Effects</td>\n      <td>acne scarring &amp; hyperpigmentation</td>\n      <td>Up until 2 years ago, it worked really well on...</td>\n      <td>Have stopped using it and have also learned th...</td>\n      <td>Stopped using it for the time being.</td>\n    </tr>\n  </tbody>\n</table>\n<p>1036 rows × 9 columns</p>\n</div>"
     },
     "execution_count": 3,
     "metadata": {},
     "output_type": "execute_result"
    }
   ],
   "source": [
    "data = pd.read_csv(\"dataset/drugLibTest_raw.tsv\", sep='\\t',\n",
    "                   header=0, encoding=\"UTF-8\")\n",
    "data"
   ],
   "metadata": {
    "collapsed": false
   }
  },
  {
   "cell_type": "code",
   "execution_count": null,
   "outputs": [],
   "source": [],
   "metadata": {
    "collapsed": false
   }
  }
 ],
 "metadata": {
  "kernelspec": {
   "display_name": "Python 3",
   "language": "python",
   "name": "python3"
  },
  "language_info": {
   "codemirror_mode": {
    "name": "ipython",
    "version": 2
   },
   "file_extension": ".py",
   "mimetype": "text/x-python",
   "name": "python",
   "nbconvert_exporter": "python",
   "pygments_lexer": "ipython2",
   "version": "2.7.6"
  }
 },
 "nbformat": 4,
 "nbformat_minor": 0
}
