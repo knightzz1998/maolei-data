{
 "cells": [
  {
   "cell_type": "code",
   "execution_count": 1,
   "metadata": {
    "collapsed": true
   },
   "outputs": [
    {
     "data": {
      "text/plain": "       Unnamed: 0         drugName                     condition  \\\n0          163740      Mirtazapine                    Depression   \n1          206473       Mesalamine  Crohn's Disease, Maintenance   \n2          159672          Bactrim       Urinary Tract Infection   \n3           39293         Contrave                   Weight Loss   \n4           97768  Cyclafem 1 / 35                 Birth Control   \n...           ...              ...                           ...   \n53761      159999        Tamoxifen     Breast Cancer, Prevention   \n53762      140714     Escitalopram                       Anxiety   \n53763      130945   Levonorgestrel                 Birth Control   \n53764       47656       Tapentadol                          Pain   \n53765      113712        Arthrotec                      Sciatica   \n\n                                                  review  rating  \\\n0      \"I&#039;ve tried a few antidepressants over th...    10.0   \n1      \"My son has Crohn&#039;s disease and has done ...     8.0   \n2                          \"Quick reduction of symptoms\"     9.0   \n3      \"Contrave combines drugs that were used for al...     9.0   \n4      \"I have been on this birth control for one cyc...     9.0   \n...                                                  ...     ...   \n53761  \"I have taken Tamoxifen for 5 years. Side effe...    10.0   \n53762  \"I&#039;ve been taking Lexapro (escitaploprgra...     9.0   \n53763  \"I&#039;m married, 34 years old and I have no ...     8.0   \n53764  \"I was prescribed Nucynta for severe neck/shou...     1.0   \n53765                                      \"It works!!!\"     9.0   \n\n                     date  usefulCount  \n0       February 28, 2012           22  \n1            May 17, 2009           17  \n2      September 29, 2017            3  \n3           March 5, 2017           35  \n4        October 22, 2015            4  \n...                   ...          ...  \n53761  September 13, 2014           43  \n53762     October 8, 2016           11  \n53763   November 15, 2010            7  \n53764   November 28, 2011           20  \n53765  September 13, 2009           46  \n\n[53766 rows x 7 columns]",
      "text/html": "<div>\n<style scoped>\n    .dataframe tbody tr th:only-of-type {\n        vertical-align: middle;\n    }\n\n    .dataframe tbody tr th {\n        vertical-align: top;\n    }\n\n    .dataframe thead th {\n        text-align: right;\n    }\n</style>\n<table border=\"1\" class=\"dataframe\">\n  <thead>\n    <tr style=\"text-align: right;\">\n      <th></th>\n      <th>Unnamed: 0</th>\n      <th>drugName</th>\n      <th>condition</th>\n      <th>review</th>\n      <th>rating</th>\n      <th>date</th>\n      <th>usefulCount</th>\n    </tr>\n  </thead>\n  <tbody>\n    <tr>\n      <th>0</th>\n      <td>163740</td>\n      <td>Mirtazapine</td>\n      <td>Depression</td>\n      <td>\"I&amp;#039;ve tried a few antidepressants over th...</td>\n      <td>10.0</td>\n      <td>February 28, 2012</td>\n      <td>22</td>\n    </tr>\n    <tr>\n      <th>1</th>\n      <td>206473</td>\n      <td>Mesalamine</td>\n      <td>Crohn's Disease, Maintenance</td>\n      <td>\"My son has Crohn&amp;#039;s disease and has done ...</td>\n      <td>8.0</td>\n      <td>May 17, 2009</td>\n      <td>17</td>\n    </tr>\n    <tr>\n      <th>2</th>\n      <td>159672</td>\n      <td>Bactrim</td>\n      <td>Urinary Tract Infection</td>\n      <td>\"Quick reduction of symptoms\"</td>\n      <td>9.0</td>\n      <td>September 29, 2017</td>\n      <td>3</td>\n    </tr>\n    <tr>\n      <th>3</th>\n      <td>39293</td>\n      <td>Contrave</td>\n      <td>Weight Loss</td>\n      <td>\"Contrave combines drugs that were used for al...</td>\n      <td>9.0</td>\n      <td>March 5, 2017</td>\n      <td>35</td>\n    </tr>\n    <tr>\n      <th>4</th>\n      <td>97768</td>\n      <td>Cyclafem 1 / 35</td>\n      <td>Birth Control</td>\n      <td>\"I have been on this birth control for one cyc...</td>\n      <td>9.0</td>\n      <td>October 22, 2015</td>\n      <td>4</td>\n    </tr>\n    <tr>\n      <th>...</th>\n      <td>...</td>\n      <td>...</td>\n      <td>...</td>\n      <td>...</td>\n      <td>...</td>\n      <td>...</td>\n      <td>...</td>\n    </tr>\n    <tr>\n      <th>53761</th>\n      <td>159999</td>\n      <td>Tamoxifen</td>\n      <td>Breast Cancer, Prevention</td>\n      <td>\"I have taken Tamoxifen for 5 years. Side effe...</td>\n      <td>10.0</td>\n      <td>September 13, 2014</td>\n      <td>43</td>\n    </tr>\n    <tr>\n      <th>53762</th>\n      <td>140714</td>\n      <td>Escitalopram</td>\n      <td>Anxiety</td>\n      <td>\"I&amp;#039;ve been taking Lexapro (escitaploprgra...</td>\n      <td>9.0</td>\n      <td>October 8, 2016</td>\n      <td>11</td>\n    </tr>\n    <tr>\n      <th>53763</th>\n      <td>130945</td>\n      <td>Levonorgestrel</td>\n      <td>Birth Control</td>\n      <td>\"I&amp;#039;m married, 34 years old and I have no ...</td>\n      <td>8.0</td>\n      <td>November 15, 2010</td>\n      <td>7</td>\n    </tr>\n    <tr>\n      <th>53764</th>\n      <td>47656</td>\n      <td>Tapentadol</td>\n      <td>Pain</td>\n      <td>\"I was prescribed Nucynta for severe neck/shou...</td>\n      <td>1.0</td>\n      <td>November 28, 2011</td>\n      <td>20</td>\n    </tr>\n    <tr>\n      <th>53765</th>\n      <td>113712</td>\n      <td>Arthrotec</td>\n      <td>Sciatica</td>\n      <td>\"It works!!!\"</td>\n      <td>9.0</td>\n      <td>September 13, 2009</td>\n      <td>46</td>\n    </tr>\n  </tbody>\n</table>\n<p>53766 rows × 7 columns</p>\n</div>"
     },
     "execution_count": 1,
     "metadata": {},
     "output_type": "execute_result"
    }
   ],
   "source": [
    "import pandas as pd\n",
    "data = pd.read_csv(\"dataset/drugsComTest_raw.tsv\", sep='\\t',\n",
    "                   header=0, encoding=\"UTF-8\")\n",
    "data"
   ]
  },
  {
   "cell_type": "code",
   "execution_count": 2,
   "outputs": [
    {
     "data": {
      "text/plain": "'Mirtazapine'"
     },
     "execution_count": 2,
     "metadata": {},
     "output_type": "execute_result"
    }
   ],
   "source": [
    "data['drugName'][0]"
   ],
   "metadata": {
    "collapsed": false
   }
  },
  {
   "cell_type": "code",
   "execution_count": 3,
   "outputs": [
    {
     "data": {
      "text/plain": "'Depression'"
     },
     "execution_count": 3,
     "metadata": {},
     "output_type": "execute_result"
    }
   ],
   "source": [
    "data['condition'][0]"
   ],
   "metadata": {
    "collapsed": false
   }
  },
  {
   "cell_type": "code",
   "execution_count": 4,
   "outputs": [
    {
     "data": {
      "text/plain": "'Depression Mirtazapine'"
     },
     "execution_count": 4,
     "metadata": {},
     "output_type": "execute_result"
    }
   ],
   "source": [
    "data['condition'][0] + \" \" + data['drugName'][0]"
   ],
   "metadata": {
    "collapsed": false
   }
  },
  {
   "cell_type": "code",
   "execution_count": 6,
   "outputs": [
    {
     "name": "stdout",
     "output_type": "stream",
     "text": [
      "19 aaa\n",
      "\n"
     ]
    }
   ],
   "source": [
    "a = 19\n",
    "b = \"aaa\"\n",
    "print(\"{} {}\\n\".format(a,b))"
   ],
   "metadata": {
    "collapsed": false
   }
  },
  {
   "cell_type": "code",
   "execution_count": null,
   "outputs": [],
   "source": [],
   "metadata": {
    "collapsed": false
   }
  }
 ],
 "metadata": {
  "kernelspec": {
   "display_name": "Python 3",
   "language": "python",
   "name": "python3"
  },
  "language_info": {
   "codemirror_mode": {
    "name": "ipython",
    "version": 2
   },
   "file_extension": ".py",
   "mimetype": "text/x-python",
   "name": "python",
   "nbconvert_exporter": "python",
   "pygments_lexer": "ipython2",
   "version": "2.7.6"
  }
 },
 "nbformat": 4,
 "nbformat_minor": 0
}
